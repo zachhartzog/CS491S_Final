{
 "cells": [
  {
   "cell_type": "markdown",
   "metadata": {},
   "source": [
    "# Baseball Win Predictions"
   ]
  },
  {
   "cell_type": "code",
   "execution_count": 1,
   "metadata": {
    "collapsed": true
   },
   "outputs": [],
   "source": [
    "import pandas as pd\n",
    "from os import listdir\n",
    "from os.path import isfile, join\n",
    "import csv\n",
    "import gameSentiment as gs\n",
    "\n",
    "# directory containing the CSVs\n",
    "DATA_PATH = 'Data/baseball/yankees/'\n",
    "LABEL_FILE_NAME = 'labelfile.csv'\n",
    "LABEL_FILE_PATH = join(DATA_PATH, LABEL_FILE_NAME)\n",
    "MODEL = join(DATA_PATH, 'GoogleNews-vectors-negative300.bin')"
   ]
  },
  {
   "cell_type": "markdown",
   "metadata": {},
   "source": [
    "### Collecting all CSV files \n",
    "##### Format:\n",
    "tweet text, # retweets, # favorites\n",
    "\n",
    "##### Notes on the CSV files:\n",
    "- Each CSV for the series contains 10,000 tweets"
   ]
  },
  {
   "cell_type": "code",
   "execution_count": 2,
   "metadata": {
    "collapsed": true,
    "scrolled": true
   },
   "outputs": [],
   "source": [
    "import re\n",
    "\n",
    "files = list()\n",
    "for f in listdir(DATA_PATH):\n",
    "    if isfile(join(DATA_PATH, f)) and f[-3:] == 'tsv':\n",
    "        with open(join(DATA_PATH, f)) as of:\n",
    "            files.append({\n",
    "                'seriesid': f[:-4],\n",
    "                'text': [re.sub('\\s+', ' ', line) for line in of]\n",
    "            })"
   ]
  },
  {
   "cell_type": "markdown",
   "metadata": {},
   "source": [
    "### Collecting the label file\n",
    "##### Format:\n",
    "series id (CSV File Name), label (0-1)\n",
    "\n",
    "##### Notes on the label:\n",
    "- A series consists of multiple games played over the course of several consecutive days. If our team wins, we consider the label to be *1*. If our team loses, we consider the label to be *0*.\n",
    "- If a series consists of 3 games and our team wins two and loses one, the label is *0.66*."
   ]
  },
  {
   "cell_type": "code",
   "execution_count": 3,
   "metadata": {
    "collapsed": true
   },
   "outputs": [],
   "source": [
    "label_file = pd.read_csv(LABEL_FILE_PATH, delimiter='\\t', names=['seriesid','label'])"
   ]
  },
  {
   "cell_type": "markdown",
   "metadata": {},
   "source": [
    "  "
   ]
  },
  {
   "cell_type": "markdown",
   "metadata": {},
   "source": [
    "## Next step:\n",
    "- Create a word vector for each tweet in each series:\n",
    "    - Each word vector must consider sentiment (Zach)\n",
    "    - Each word vector must consider retweets and favorites (Meaghan)\n",
    "- Average these word vectors for an 'overall' sentiment of the series.\n",
    "\n",
    "### After this:\n",
    "- Create a numpy array containing each 'overall' sentiment vector for each series. (X)\n",
    "- Create another numpy array of the same size as the X. This time fill  the array with the labels corresponding to each element (series) in X. (y)"
   ]
  },
  {
   "cell_type": "code",
   "execution_count": 4,
   "metadata": {
    "collapsed": true
   },
   "outputs": [],
   "source": [
    "from gensim.models.keyedvectors import KeyedVectors\n",
    "\n",
    "# load the model to vectorize tweets\n",
    "model = KeyedVectors.load_word2vec_format(MODEL, binary=True)"
   ]
  },
  {
   "cell_type": "code",
   "execution_count": 5,
   "metadata": {
    "collapsed": true
   },
   "outputs": [],
   "source": [
    "# computes the word vector for each word in the sentence.\n",
    "# averages together all of the word vectors and returns the average\n",
    "def sentence_to_vector(model, sentence):\n",
    "    words = [model[w] for w in sentence if w in model]\n",
    "    if len(words) != 0:\n",
    "        sum = words[0]\n",
    "        for i in range(1, len(words)):\n",
    "            sum = sum + words[i]\n",
    "        return sum / len(words)\n",
    "    return None"
   ]
  },
  {
   "cell_type": "markdown",
   "metadata": {},
   "source": [
    "#### Compute the average of all of the tweet vectors which are the average of each word vector\n",
    "- This is where we need to take into account retweets and favorites"
   ]
  },
  {
   "cell_type": "code",
   "execution_count": 6,
   "metadata": {
    "collapsed": true
   },
   "outputs": [],
   "source": [
    "from sklearn.preprocessing import StandardScaler\n",
    "scaler = StandardScaler()\n",
    "\n",
    "series_vectors = list()\n",
    "for file in files:\n",
    "    tweets_vector = list()\n",
    "    for tweet in file['text']:\n",
    "        if tweet != ' ':\n",
    "            tweets_vector.append(scaler.fit_transform(sentence_to_vector(model, tweet).reshape(-1,1)) * gs.getSentiment(tweet))\n",
    "    series_vectors.append({\n",
    "        'seriesid': file['seriesid'],\n",
    "        'tweets_vector': tweets_vector\n",
    "    })"
   ]
  },
  {
   "cell_type": "code",
   "execution_count": 7,
   "metadata": {
    "collapsed": true
   },
   "outputs": [],
   "source": [
    "average_series = list()\n",
    "for series in series_vectors:\n",
    "    sum = series['tweets_vector'][0]\n",
    "    for i in range(1, len(series['tweets_vector'])):\n",
    "        sum = sum + series['tweets_vector'][i]\n",
    "    average_series.append({\n",
    "        'seriesid': series['seriesid'],\n",
    "        'average_vector': sum / len(series['tweets_vector'])\n",
    "    })"
   ]
  },
  {
   "cell_type": "markdown",
   "metadata": {},
   "source": [
    "#### Creating X"
   ]
  },
  {
   "cell_type": "code",
   "execution_count": 8,
   "metadata": {},
   "outputs": [
    {
     "data": {
      "text/plain": [
       "300"
      ]
     },
     "execution_count": 8,
     "metadata": {},
     "output_type": "execute_result"
    }
   ],
   "source": [
    "temp = [x['average_vector'] for x in sorted(average_series, key=lambda x: x['seriesid'])]\n",
    "X = list()\n",
    "for x in temp:\n",
    "    a = list()\n",
    "    for item in x:\n",
    "        a.append(item[0])\n",
    "    X.append(a)\n",
    "len(X[0])"
   ]
  },
  {
   "cell_type": "markdown",
   "metadata": {},
   "source": [
    "#### Creating y"
   ]
  },
  {
   "cell_type": "code",
   "execution_count": 9,
   "metadata": {
    "collapsed": true
   },
   "outputs": [],
   "source": [
    "y = list(label_file.sort_values('seriesid')['label'])"
   ]
  },
  {
   "cell_type": "code",
   "execution_count": 10,
   "metadata": {},
   "outputs": [
    {
     "data": {
      "text/plain": [
       "52"
      ]
     },
     "execution_count": 10,
     "metadata": {},
     "output_type": "execute_result"
    }
   ],
   "source": [
    "len(X)"
   ]
  },
  {
   "cell_type": "code",
   "execution_count": 11,
   "metadata": {
    "scrolled": true
   },
   "outputs": [
    {
     "data": {
      "text/plain": [
       "52"
      ]
     },
     "execution_count": 11,
     "metadata": {},
     "output_type": "execute_result"
    }
   ],
   "source": [
    "len(y)"
   ]
  },
  {
   "cell_type": "markdown",
   "metadata": {},
   "source": [
    "### Now we need to split the 52 series into *training* and *test* sets"
   ]
  },
  {
   "cell_type": "code",
   "execution_count": 12,
   "metadata": {
    "collapsed": true
   },
   "outputs": [],
   "source": [
    "from sklearn.model_selection import train_test_split\n",
    "X_train, X_test, y_train, y_test = train_test_split(X, y, test_size=0.2, random_state=42)"
   ]
  },
  {
   "cell_type": "markdown",
   "metadata": {},
   "source": [
    "#### Stochastic Gradient Descent Classifier"
   ]
  },
  {
   "cell_type": "code",
   "execution_count": 13,
   "metadata": {},
   "outputs": [
    {
     "name": "stderr",
     "output_type": "stream",
     "text": [
      "/home/ltnewberry/anaconda3/lib/python3.6/site-packages/sklearn/linear_model/stochastic_gradient.py:84: FutureWarning: max_iter and tol parameters have been added in <class 'sklearn.linear_model.stochastic_gradient.SGDClassifier'> in 0.19. If both are left unset, they default to max_iter=5 and tol=None. If tol is not None, max_iter defaults to max_iter=1000. From 0.21, default max_iter will be 1000, and default tol will be 1e-3.\n",
      "  \"and default tol will be 1e-3.\" % type(self), FutureWarning)\n"
     ]
    }
   ],
   "source": [
    "from sklearn.linear_model import SGDClassifier\n",
    "import numpy as np\n",
    "\n",
    "clf = SGDClassifier()\n",
    "clf.fit(X_train, np.asarray(y_train, dtype='|S9'))\n",
    "\n",
    "sgd_predictions = clf.predict(X_test)"
   ]
  },
  {
   "cell_type": "markdown",
   "metadata": {},
   "source": [
    "#### Random Forest Classifier"
   ]
  },
  {
   "cell_type": "code",
   "execution_count": 14,
   "metadata": {},
   "outputs": [],
   "source": [
    "from sklearn.ensemble import RandomForestClassifier\n",
    "\n",
    "clf = RandomForestClassifier(n_estimators=100)\n",
    "clf.fit(X_train, np.asarray(y_train, dtype='|S9'))\n",
    "\n",
    "rfc_predictions = clf.predict(X_test)"
   ]
  },
  {
   "cell_type": "markdown",
   "metadata": {},
   "source": [
    "### True Labels:"
   ]
  },
  {
   "cell_type": "code",
   "execution_count": 15,
   "metadata": {},
   "outputs": [
    {
     "name": "stdout",
     "output_type": "stream",
     "text": [
      "0 : 1.0\n",
      "1 : 0.0\n",
      "2 : 1.0\n",
      "3 : 0.6666666667\n",
      "4 : 0.6666666667\n",
      "5 : 0.3333333333\n",
      "6 : 0.5\n",
      "7 : 0.6666666667\n",
      "8 : 1.0\n",
      "9 : 0.75\n",
      "10 : 0.3333333333\n"
     ]
    }
   ],
   "source": [
    "for i, y in enumerate(y_test): print(i, ':', y)"
   ]
  },
  {
   "cell_type": "markdown",
   "metadata": {},
   "source": [
    "#### SGD Predictions"
   ]
  },
  {
   "cell_type": "code",
   "execution_count": 16,
   "metadata": {},
   "outputs": [
    {
     "name": "stdout",
     "output_type": "stream",
     "text": [
      "0 : b'1.0'\n",
      "1 : b'0.3333333'\n",
      "2 : b'0.3333333'\n",
      "3 : b'1.0'\n",
      "4 : b'1.0'\n",
      "5 : b'1.0'\n",
      "6 : b'0.3333333'\n",
      "7 : b'0.3333333'\n",
      "8 : b'1.0'\n",
      "9 : b'1.0'\n",
      "10 : b'1.0'\n"
     ]
    }
   ],
   "source": [
    "for i, y in enumerate(sgd_predictions): print(i, ':', y)"
   ]
  },
  {
   "cell_type": "markdown",
   "metadata": {},
   "source": [
    "#### RFC Predictions"
   ]
  },
  {
   "cell_type": "code",
   "execution_count": 17,
   "metadata": {},
   "outputs": [
    {
     "name": "stdout",
     "output_type": "stream",
     "text": [
      "0 : b'0.6666666'\n",
      "1 : b'0.6666666'\n",
      "2 : b'0.25'\n",
      "3 : b'0.6666666'\n",
      "4 : b'0.6666666'\n",
      "5 : b'0.3333333'\n",
      "6 : b'0.3333333'\n",
      "7 : b'0.5'\n",
      "8 : b'0.3333333'\n",
      "9 : b'0.3333333'\n",
      "10 : b'0.3333333'\n"
     ]
    }
   ],
   "source": [
    "for i, y in enumerate(rfc_predictions): print(i, ':', y)"
   ]
  },
  {
   "cell_type": "markdown",
   "metadata": {},
   "source": [
    "### *Average of SGD and RFC Predictions*"
   ]
  },
  {
   "cell_type": "code",
   "execution_count": 22,
   "metadata": {},
   "outputs": [
    {
     "name": "stdout",
     "output_type": "stream",
     "text": [
      "0 : 0.8333333\n",
      "1 : 0.49999995\n",
      "2 : 0.29166665\n",
      "3 : 0.8333333\n",
      "4 : 0.8333333\n",
      "5 : 0.66666665\n",
      "6 : 0.3333333\n",
      "7 : 0.41666665\n",
      "8 : 0.66666665\n",
      "9 : 0.66666665\n",
      "10 : 0.66666665\n"
     ]
    }
   ],
   "source": [
    "avg_predictions = (np.array(sgd_predictions, dtype=float) + np.array(rfc_predictions, dtype=float)) / 2\n",
    "for i, y in enumerate(avg_predictions): print(i, ':', y)"
   ]
  },
  {
   "cell_type": "code",
   "execution_count": 26,
   "metadata": {},
   "outputs": [
    {
     "name": "stdout",
     "output_type": "stream",
     "text": [
      "True: 1.0 \n",
      "Prediction: 0.8333333 \n",
      "Difference: 0.1666667 \n",
      "\n",
      "\n",
      "True: 0.0 \n",
      "Prediction: 0.49999995 \n",
      "Difference: 0.49999995 \n",
      "\n",
      "\n",
      "True: 1.0 \n",
      "Prediction: 0.29166665 \n",
      "Difference: 0.70833335 \n",
      "\n",
      "\n",
      "True: 0.6666666667 \n",
      "Prediction: 0.8333333 \n",
      "Difference: 0.1666666333 \n",
      "\n",
      "\n",
      "True: 0.6666666667 \n",
      "Prediction: 0.8333333 \n",
      "Difference: 0.1666666333 \n",
      "\n",
      "\n",
      "True: 0.3333333333 \n",
      "Prediction: 0.66666665 \n",
      "Difference: 0.3333333167 \n",
      "\n",
      "\n",
      "True: 0.5 \n",
      "Prediction: 0.3333333 \n",
      "Difference: 0.1666667 \n",
      "\n",
      "\n",
      "True: 0.6666666667 \n",
      "Prediction: 0.41666665 \n",
      "Difference: 0.2500000167 \n",
      "\n",
      "\n",
      "True: 1.0 \n",
      "Prediction: 0.66666665 \n",
      "Difference: 0.33333335 \n",
      "\n",
      "\n",
      "True: 0.75 \n",
      "Prediction: 0.66666665 \n",
      "Difference: 0.08333335 \n",
      "\n",
      "\n",
      "True: 0.3333333333 \n",
      "Prediction: 0.66666665 \n",
      "Difference: 0.3333333167 \n",
      "\n",
      "\n"
     ]
    }
   ],
   "source": [
    "for y1, y2 in zip(y_test, avg_predictions):\n",
    "    print('True:', y1, '\\nPrediction:', y2, '\\nDifference:',abs(y1 - y2), '\\n\\n')"
   ]
  },
  {
   "cell_type": "code",
   "execution_count": 63,
   "metadata": {},
   "outputs": [
    {
     "name": "stdout",
     "output_type": "stream",
     "text": [
      "0.291666665155\n"
     ]
    }
   ],
   "source": [
    "sum = 0;\n",
    "for y1, y2 in zip(y_test, avg_predictions):\n",
    "    sum = sum + abs(y1 - y2)\n",
    "print(sum / len(y_test))"
   ]
  },
  {
   "cell_type": "code",
   "execution_count": 69,
   "metadata": {
    "collapsed": true
   },
   "outputs": [],
   "source": [
    "import matplotlib.pyplot as plt"
   ]
  },
  {
   "cell_type": "code",
   "execution_count": 70,
   "metadata": {},
   "outputs": [
    {
     "data": {
      "image/png": "[encoded data removed]",
      "text/plain": [
       "<matplotlib.figure.Figure at 0x7f3b31169b00>"
      ]
     },
     "metadata": {},
     "output_type": "display_data"
    }
   ],
   "source": [
    "plt.plot(range(len(y_test)), y_test, label=\"Ground Truth\")\n",
    "plt.plot(range(len(avg_predictions)), avg_predictions, linestyle='-.', label=\"Average of Predictions\")\n",
    "plt.legend()\n",
    "plt.ylabel('Prediction Score')\n",
    "plt.xlabel('Series #')\n",
    "plt.savefig('GroundTruthVSAvgPrediction.png', dpi=1000)\n",
    "plt.show()"
   ]
  },
  {
   "cell_type": "code",
   "execution_count": null,
   "metadata": {},
   "outputs": [],
   "source": [
    "plt.plot(range(len(sgd_predictions)), sgd_predictions, label=\"SGD Predictions\")\n",
    "plt.plot(range(len(rfc_predictions)), rfc_predictions, label=\"Random Forest Predictions\")\n",
    "plt.plot(range(len(avg_predictions)), avg_predictions, linestyle='-.', label=\"Avg Predictions\")\n",
    "plt.legend()\n",
    "plt.ylabel('Prediction Score')\n",
    "plt.xlabel('Series #')\n",
    "plt.savefig('AveragingOfPredictionModels.png', dpi=1000)\n",
    "plt.show()"
   ]
  },
  {
   "cell_type": "code",
   "execution_count": null,
   "metadata": {
    "collapsed": true
   },
   "outputs": [],
   "source": []
  }
 ],
 "metadata": {
  "kernelspec": {
   "display_name": "Python 3",
   "language": "python",
   "name": "python3"
  },
  "language_info": {
   "codemirror_mode": {
    "name": "ipython",
    "version": 3
   },
   "file_extension": ".py",
   "mimetype": "text/x-python",
   "name": "python",
   "nbconvert_exporter": "python",
   "pygments_lexer": "ipython3",
   "version": "3.6.1"
  }
 },
 "nbformat": 4,
 "nbformat_minor": 2
}
