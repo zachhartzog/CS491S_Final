{
 "cells": [
  {
   "cell_type": "markdown",
   "metadata": {},
   "source": [
    "# Baseball Win Predictions"
   ]
  },
  {
   "cell_type": "code",
   "execution_count": 1,
   "metadata": {},
   "outputs": [],
   "source": [
    "import pandas as pd\n",
    "from os import listdir\n",
    "from os.path import isfile, join\n",
    "import csv\n",
    "import gameSentiment as gs\n",
    "\n",
    "# directory containing the CSVs\n",
    "DATA_PATH = 'Data/baseball/yankees/'\n",
    "LABEL_FILE_NAME = 'labelfile.csv'\n",
    "LABEL_FILE_PATH = join(DATA_PATH, LABEL_FILE_NAME)\n",
    "MODEL = join(DATA_PATH, 'GoogleNews-vectors-negative300.bin')"
   ]
  },
  {
   "cell_type": "markdown",
   "metadata": {},
   "source": [
    "### Collecting all CSV files \n",
    "##### Format:\n",
    "tweet text, # retweets, # favorites\n",
    "\n",
    "##### Notes on the CSV files:\n",
    "- Each CSV for the series contains 10,000 tweets"
   ]
  },
  {
   "cell_type": "code",
   "execution_count": 2,
   "metadata": {
    "scrolled": true
   },
   "outputs": [],
   "source": [
    "import re\n",
    "\n",
    "files = list()\n",
    "for f in listdir(DATA_PATH):\n",
    "    if isfile(join(DATA_PATH, f)) and f[-3:] == 'tsv':\n",
    "        with open(join(DATA_PATH, f)) as of:\n",
    "            files.append({\n",
    "                'seriesid': f[:-4],\n",
    "                'text': [re.sub('\\s+', ' ', line) for line in of]\n",
    "            })"
   ]
  },
  {
   "cell_type": "markdown",
   "metadata": {},
   "source": [
    "### Collecting the label file\n",
    "##### Format:\n",
    "series id (CSV File Name), label (0-1)\n",
    "\n",
    "##### Notes on the label:\n",
    "- A series consists of multiple games played over the course of several consecutive days. If our team wins, we consider the label to be *1*. If our team loses, we consider the label to be *0*.\n",
    "- If a series consists of 3 games and our team wins two and loses one, the label is *0.66*."
   ]
  },
  {
   "cell_type": "code",
   "execution_count": 3,
   "metadata": {},
   "outputs": [],
   "source": [
    "label_file = pd.read_csv(LABEL_FILE_PATH, delimiter='\\t', names=['seriesid','label'])"
   ]
  },
  {
   "cell_type": "markdown",
   "metadata": {},
   "source": [
    "  "
   ]
  },
  {
   "cell_type": "markdown",
   "metadata": {},
   "source": [
    "## Next step:\n",
    "- Create a word vector for each tweet in each series:\n",
    "    - Each word vector must consider sentiment (Zach)\n",
    "    - Each word vector must consider retweets and favorites (Meaghan)\n",
    "- Average these word vectors for an 'overall' sentiment of the series.\n",
    "\n",
    "### After this:\n",
    "- Create a numpy array containing each 'overall' sentiment vector for each series. (X)\n",
    "- Create another numpy array of the same size as the X. This time fill  the array with the labels corresponding to each element (series) in X. (y)"
   ]
  },
  {
   "cell_type": "code",
   "execution_count": 4,
   "metadata": {},
   "outputs": [],
   "source": [
    "from gensim.models.keyedvectors import KeyedVectors\n",
    "\n",
    "# load the model to vectorize tweets\n",
    "model = KeyedVectors.load_word2vec_format(MODEL, binary=True)"
   ]
  },
  {
   "cell_type": "code",
   "execution_count": 5,
   "metadata": {
    "collapsed": true
   },
   "outputs": [],
   "source": [
    "# computes the word vector for each word in the sentence.\n",
    "# averages together all of the word vectors and returns the average\n",
    "def sentence_to_vector(model, sentence):\n",
    "    words = [model[w] for w in sentence if w in model]\n",
    "    if len(words) != 0:\n",
    "        sum = words[0]\n",
    "        for i in range(1, len(words)):\n",
    "            sum = sum + words[i]\n",
    "        return sum / len(words)\n",
    "    return None"
   ]
  },
  {
   "cell_type": "markdown",
   "metadata": {},
   "source": [
    "#### Compute the average of all of the tweet vectors which are the average of each word vector\n",
    "- This is where we need to take into account retweets and favorites"
   ]
  },
  {
   "cell_type": "code",
   "execution_count": 6,
   "metadata": {},
   "outputs": [],
   "source": [
    "from sklearn.preprocessing import StandardScaler\n",
    "scaler = StandardScaler()\n",
    "\n",
    "series_vectors = list()\n",
    "for file in files:\n",
    "    tweets_vector = list()\n",
    "    for tweet in file['text']:\n",
    "        if tweet != ' ':\n",
    "            tweets_vector.append(scaler.fit_transform(sentence_to_vector(model, tweet).reshape(-1,1)) * gs.getSentiment(tweet))\n",
    "    series_vectors.append({\n",
    "        'seriesid': file['seriesid'],\n",
    "        'tweets_vector': tweets_vector\n",
    "    })"
   ]
  },
  {
   "cell_type": "code",
   "execution_count": 7,
   "metadata": {},
   "outputs": [],
   "source": [
    "average_series = list()\n",
    "for series in series_vectors:\n",
    "    sum = series['tweets_vector'][0]\n",
    "    for i in range(1, len(series['tweets_vector'])):\n",
    "        sum = sum + series['tweets_vector'][i]\n",
    "    average_series.append({\n",
    "        'seriesid': series['seriesid'],\n",
    "        'average_vector': sum / len(series['tweets_vector'])\n",
    "    })"
   ]
  },
  {
   "cell_type": "markdown",
   "metadata": {},
   "source": [
    "#### Creating X"
   ]
  },
  {
   "cell_type": "code",
   "execution_count": 8,
   "metadata": {},
   "outputs": [
    {
     "data": {
      "text/plain": [
       "300"
      ]
     },
     "execution_count": 8,
     "metadata": {},
     "output_type": "execute_result"
    }
   ],
   "source": [
    "temp = [x['average_vector'] for x in sorted(average_series, key=lambda x: x['seriesid'])]\n",
    "X = list()\n",
    "for x in temp:\n",
    "    a = list()\n",
    "    for item in x:\n",
    "        a.append(item[0])\n",
    "    X.append(a)\n",
    "len(X[0])"
   ]
  },
  {
   "cell_type": "markdown",
   "metadata": {},
   "source": [
    "#### Creating y"
   ]
  },
  {
   "cell_type": "code",
   "execution_count": 9,
   "metadata": {},
   "outputs": [],
   "source": [
    "y = list(label_file.sort_values('seriesid')['label'])"
   ]
  },
  {
   "cell_type": "code",
   "execution_count": 14,
   "metadata": {},
   "outputs": [
    {
     "data": {
      "text/plain": [
       "52"
      ]
     },
     "execution_count": 14,
     "metadata": {},
     "output_type": "execute_result"
    }
   ],
   "source": [
    "len(X)"
   ]
  },
  {
   "cell_type": "code",
   "execution_count": 15,
   "metadata": {
    "scrolled": true
   },
   "outputs": [
    {
     "data": {
      "text/plain": [
       "52"
      ]
     },
     "execution_count": 15,
     "metadata": {},
     "output_type": "execute_result"
    }
   ],
   "source": [
    "len(y)"
   ]
  },
  {
   "cell_type": "markdown",
   "metadata": {},
   "source": [
    "### Now we need to split the 52 series into *training* and *test* sets"
   ]
  },
  {
   "cell_type": "code",
   "execution_count": 16,
   "metadata": {},
   "outputs": [],
   "source": [
    "from sklearn.model_selection import train_test_split\n",
    "X_train, X_test, y_train, y_test = train_test_split(X, y, test_size=0.2, random_state=42)"
   ]
  },
  {
   "cell_type": "code",
   "execution_count": 17,
   "metadata": {},
   "outputs": [],
   "source": [
    "from sklearn.linear_model import SGDClassifier\n",
    "import numpy as np"
   ]
  },
  {
   "cell_type": "code",
   "execution_count": 18,
   "metadata": {},
   "outputs": [
    {
     "name": "stderr",
     "output_type": "stream",
     "text": [
      "/home/ltnewberry/anaconda3/lib/python3.6/site-packages/sklearn/linear_model/stochastic_gradient.py:84: FutureWarning: max_iter and tol parameters have been added in <class 'sklearn.linear_model.stochastic_gradient.SGDClassifier'> in 0.19. If both are left unset, they default to max_iter=5 and tol=None. If tol is not None, max_iter defaults to max_iter=1000. From 0.21, default max_iter will be 1000, and default tol will be 1e-3.\n",
      "  \"and default tol will be 1e-3.\" % type(self), FutureWarning)\n"
     ]
    },
    {
     "data": {
      "text/plain": [
       "SGDClassifier(alpha=0.0001, average=False, class_weight=None, epsilon=0.1,\n",
       "       eta0=0.0, fit_intercept=True, l1_ratio=0.15,\n",
       "       learning_rate='optimal', loss='hinge', max_iter=5, n_iter=None,\n",
       "       n_jobs=1, penalty='l2', power_t=0.5, random_state=None,\n",
       "       shuffle=True, tol=None, verbose=0, warm_start=False)"
      ]
     },
     "execution_count": 18,
     "metadata": {},
     "output_type": "execute_result"
    }
   ],
   "source": [
    "clf = SGDClassifier()\n",
    "clf.fit(X_train, np.asarray(y_train, dtype='|S9'))"
   ]
  },
  {
   "cell_type": "code",
   "execution_count": 19,
   "metadata": {
    "scrolled": true
   },
   "outputs": [
    {
     "data": {
      "text/plain": [
       "array([b'0.3333333', b'0.6666666', b'0.6666666', b'0.3333333',\n",
       "       b'0.3333333', b'0.3333333', b'0.6666666', b'0.6666666',\n",
       "       b'0.3333333', b'0.3333333', b'0.3333333'], \n",
       "      dtype='|S12')"
      ]
     },
     "execution_count": 19,
     "metadata": {},
     "output_type": "execute_result"
    }
   ],
   "source": [
    "clf.predict(X_test)"
   ]
  },
  {
   "cell_type": "code",
   "execution_count": 21,
   "metadata": {},
   "outputs": [
    {
     "data": {
      "text/plain": [
       "[1.0,\n",
       " 0.0,\n",
       " 1.0,\n",
       " 0.6666666667,\n",
       " 0.6666666667,\n",
       " 0.3333333333,\n",
       " 0.5,\n",
       " 0.6666666667,\n",
       " 1.0,\n",
       " 0.75,\n",
       " 0.3333333333]"
      ]
     },
     "execution_count": 21,
     "metadata": {},
     "output_type": "execute_result"
    }
   ],
   "source": [
    "y_test"
   ]
  },
  {
   "cell_type": "code",
   "execution_count": 22,
   "metadata": {},
   "outputs": [
    {
     "data": {
      "text/plain": [
       "RandomForestClassifier(bootstrap=True, class_weight=None, criterion='gini',\n",
       "            max_depth=None, max_features='auto', max_leaf_nodes=None,\n",
       "            min_impurity_decrease=0.0, min_impurity_split=None,\n",
       "            min_samples_leaf=1, min_samples_split=2,\n",
       "            min_weight_fraction_leaf=0.0, n_estimators=100, n_jobs=1,\n",
       "            oob_score=False, random_state=None, verbose=0,\n",
       "            warm_start=False)"
      ]
     },
     "execution_count": 22,
     "metadata": {},
     "output_type": "execute_result"
    }
   ],
   "source": [
    "from sklearn.ensemble import RandomForestClassifier\n",
    "clf = RandomForestClassifier(n_estimators=100)\n",
    "clf.fit(X_train, np.asarray(y_train, dtype='|S9'))"
   ]
  },
  {
   "cell_type": "code",
   "execution_count": 23,
   "metadata": {},
   "outputs": [
    {
     "data": {
      "text/plain": [
       "array([b'0.6666666', b'0.6666666', b'0.3333333', b'0.75', b'1.0',\n",
       "       b'0.3333333', b'0.6666666', b'0.5', b'0.3333333', b'0.3333333',\n",
       "       b'0.3333333'], \n",
       "      dtype='|S9')"
      ]
     },
     "execution_count": 23,
     "metadata": {},
     "output_type": "execute_result"
    }
   ],
   "source": [
    "clf.predict(X_test)"
   ]
  },
  {
   "cell_type": "code",
   "execution_count": 24,
   "metadata": {},
   "outputs": [
    {
     "data": {
      "text/plain": [
       "[1.0,\n",
       " 0.0,\n",
       " 1.0,\n",
       " 0.6666666667,\n",
       " 0.6666666667,\n",
       " 0.3333333333,\n",
       " 0.5,\n",
       " 0.6666666667,\n",
       " 1.0,\n",
       " 0.75,\n",
       " 0.3333333333]"
      ]
     },
     "execution_count": 24,
     "metadata": {},
     "output_type": "execute_result"
    }
   ],
   "source": [
    "y_test"
   ]
  },
  {
   "cell_type": "code",
   "execution_count": null,
   "metadata": {
    "collapsed": true
   },
   "outputs": [],
   "source": []
  }
 ],
 "metadata": {
  "kernelspec": {
   "display_name": "Python 3",
   "language": "python",
   "name": "python3"
  },
  "language_info": {
   "codemirror_mode": {
    "name": "ipython",
    "version": 3
   },
   "file_extension": ".py",
   "mimetype": "text/x-python",
   "name": "python",
   "nbconvert_exporter": "python",
   "pygments_lexer": "ipython3",
   "version": "3.6.1"
  }
 },
 "nbformat": 4,
 "nbformat_minor": 2
}
